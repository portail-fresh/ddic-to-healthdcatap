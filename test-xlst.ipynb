{
 "cells": [
  {
   "cell_type": "code",
   "execution_count": 1,
   "metadata": {},
   "outputs": [],
   "source": [
    "from lxml import etree"
   ]
  },
  {
   "cell_type": "code",
   "execution_count": 2,
   "metadata": {},
   "outputs": [],
   "source": [
    "# Load the XML file and XSLT file\n",
    "input_xml = '73247_PSY_coh_2_Cohorte_francaise_d.xml'\n",
    "xslt_file = 'ddi_2_5-dcat-ap.xslt'"
   ]
  },
  {
   "cell_type": "code",
   "execution_count": 3,
   "metadata": {},
   "outputs": [
    {
     "ename": "XSLTParseError",
     "evalue": "XSLT-variable: Failed to compile the XPath expression 'if (@event='start') then (.) else null'.",
     "output_type": "error",
     "traceback": [
      "\u001b[1;31m---------------------------------------------------------------------------\u001b[0m",
      "\u001b[1;31mXSLTParseError\u001b[0m                            Traceback (most recent call last)",
      "Cell \u001b[1;32mIn[3], line 6\u001b[0m\n\u001b[0;32m      3\u001b[0m xslt_tree \u001b[38;5;241m=\u001b[39m etree\u001b[38;5;241m.\u001b[39mparse(xslt_file)\n\u001b[0;32m      5\u001b[0m \u001b[38;5;66;03m# Create an XSLT transformer from the XSLT tree\u001b[39;00m\n\u001b[1;32m----> 6\u001b[0m transform \u001b[38;5;241m=\u001b[39m etree\u001b[38;5;241m.\u001b[39mXSLT(xslt_tree)\n\u001b[0;32m      8\u001b[0m \u001b[38;5;66;03m# Apply the transformation to the XML tree\u001b[39;00m\n\u001b[0;32m      9\u001b[0m result_tree \u001b[38;5;241m=\u001b[39m transform(xml_tree)\n",
      "File \u001b[1;32msrc\\\\lxml\\\\xslt.pxi:412\u001b[0m, in \u001b[0;36mlxml.etree.XSLT.__init__\u001b[1;34m()\u001b[0m\n",
      "\u001b[1;31mXSLTParseError\u001b[0m: XSLT-variable: Failed to compile the XPath expression 'if (@event='start') then (.) else null'."
     ]
    }
   ],
   "source": [
    "# Parse the XML and XSLT files\n",
    "xml_tree = etree.parse(input_xml)\n",
    "xslt_tree = etree.parse(xslt_file)\n",
    "\n",
    "# Create an XSLT transformer from the XSLT tree\n",
    "transform = etree.XSLT(xslt_tree)\n",
    "\n",
    "# Apply the transformation to the XML tree\n",
    "result_tree = transform(xml_tree)\n",
    "\n",
    "# Print the transformed XML\n",
    "print(str(result_tree))"
   ]
  },
  {
   "cell_type": "code",
   "execution_count": 4,
   "metadata": {},
   "outputs": [],
   "source": [
    "from saxonche import *\n",
    "\n",
    "with PySaxonProcessor(license=False) as proc:\n",
    " \n",
    "    xsltproc = proc.new_xslt30_processor()\n",
    "    document = proc.parse_xml(xml_file_name=\"73247_PSY_coh_2_Cohorte_francaise_d.xml\")\n",
    "    executable = xsltproc.compile_stylesheet(stylesheet_file=\"ddi_2_5-dcat-ap.xslt\")\n",
    "    dcatap_output = executable.transform_to_string(xdm_node=document)\n",
    "\n",
    "#write the output to a file\n"
   ]
  },
  {
   "cell_type": "code",
   "execution_count": 2,
   "metadata": {},
   "outputs": [
    {
     "data": {
      "text/plain": [
       "'<?xml version=\"1.0\" encoding=\"UTF-8\"?>\\n<rdf:RDF xmlns:dc=\"http://purl.org/dc/elements/1.1\"\\n         xmlns:dcat=\"http://www.w3.org/ns/dcat#\"\\n         xmlns:dcterms=\"http://purl.org/dc/terms/\"\\n         xmlns:foaf=\"http://xmlns.com/foaf/0.1\"\\n         xmlns:locn=\"http://www.w3.org/ns/locn#\"\\n         xmlns:odrs=\"http://schema.theodi.org/odrs\"\\n         xmlns:owl=\"http://www.w3.org/2002/07/owl#\"\\n         xmlns:prov=\"http://www.w3.org/ns/prov#\"\\n         xmlns:rdf=\"http://www.w3.org/1999/02/22-rdf-syntax-ns#\"\\n         xmlns:vcard=\"http://www.w3.org/2006/vcard/ns#\">\\n   <dcat:Dataset rdf:about=\"\">\\n      <dcterms:title xml:lang=\"FR\">Cohorte francaise de patients souffrant de schizophrénie : évaluation des différents stades de sévérité de la maladie et du rétablissement</dcterms:title>\\n      <dcterms:identifier>FRESH-PEF73247</dcterms:identifier>\\n      <dcterms:creator>Pierre-Michel Llorca</dcterms:creator>\\n      <dcterms:publisher>\\n         <dcterms:agent>Fondation Fondamental</dcterms:agent>\\n      </dcterms:publisher>\\n      <prov:qualifiedAttribution>\\n         <prov:Attribution>\\n            <prov:agent>\\n               <foaf:Agent>\\n                  <foaf:name>Pour mener à bien cette étude un contrat a été établi avec le programme « Investissement d’Avenir ».</foaf:name>\\n               </foaf:Agent>\\n            </prov:agent>\\n            <dcat:hadRole rdf:resource=\"http://inspire.ec.europa.eu/metadata-codelist/ResponsiblePartyRole/principalInvestigator\"/>\\n         </prov:Attribution>\\n      </prov:qualifiedAttribution>\\n      <dcat:contactPoint>Pierre-Michel Llorca</dcat:contactPoint>\\n      <dcat:contactPoint>Guillaume Fond </dcat:contactPoint>\\n      <dcat:contactPoint>Marion Leboyer</dcat:contactPoint>\\n      <dcterms:issued xml:lang=\"FR\" rdf:datatype=\"http://www.w3.org/2001/XMLSchema#dateTime\">09/10/2015</dcterms:issued>\\n      <owl:versionInfo xml:lang=\"FR\">2</owl:versionInfo>\\n      <dcterms:modified>09/10/2015</dcterms:modified>\\n      <dcterms:modified xml:lang=\"FR\" rdf:datatype=\"http://www.w3.org/2001/XMLSchema#dateTime\">09/10/2015</dcterms:modified>\\n      <dcat:keyword xml:lang=\"FR\">staging</dcat:keyword>\\n      <dcat:keyword xml:lang=\"FR\">réhabilitation</dcat:keyword>\\n      <dcat:keyword xml:lang=\"FR\">réponse au traitement antipsychotique</dcat:keyword>\\n      <dcat:keyword xml:lang=\"FR\">insight</dcat:keyword>\\n      <dcat:keyword xml:lang=\"FR\">adhérence</dcat:keyword>\\n      <dcat:keyword xml:lang=\"FR\">médico-économique</dcat:keyword>\\n      <dcat:keyword xml:lang=\"FR\">inflammation</dcat:keyword>\\n      <dcat:keyword xml:lang=\"FR\">vitamine D</dcat:keyword>\\n      <dcat:keyword xml:lang=\"FR\">schizophrénie</dcat:keyword>\\n      <dcat:keyword xml:lang=\"FR\">comorbidités</dcat:keyword>\\n      <dcat:keyword xml:lang=\"FR\">évolution</dcat:keyword>\\n      <dcat:keyword xml:lang=\"FR\">dépression</dcat:keyword>\\n      <dcat:keyword xml:lang=\"FR\">observance</dcat:keyword>\\n      <dcat:keyword xml:lang=\"FR\">suicide</dcat:keyword>\\n      <dcat:keyword xml:lang=\"FR\">emploi</dcat:keyword>\\n      <dcat:keyword xml:lang=\"FR\">travail</dcat:keyword>\\n      <dcat:keyword xml:lang=\"FR\">infections</dcat:keyword>\\n      <dcat:theme xml:lang=\"FR\">Psychologie et psychiatrie</dcat:theme>\\n      <dcterms:description xml:lang=\"FR\">Objectif de la base de données : •\\tIdentifier des biomarqueurs associés à chaque stade tel que défini par la classification de McGorry caractérisés par des variables cliniques, thérapeutiques, biologiques, neuropsychologiques, environnementaux et de conditions de vie.</dcterms:description>\\n      <dcterms:spatial>France</dcterms:spatial>\\n      <dcterms:spatial xml:lang=\"FR\">10 centres experts (bordeaux colombes clermont-ferrand créteil Montpellier Marseille Versailles Strasbourg Grenoble Lyon)</dcterms:spatial>\\n      <dcterms:Location/>\\n      <dcterms:accrualPeriodicity xml:lang=\"FR\">La durée de participation des patients dans la cohorte peut aller jusqu’à 5 ans avec le recueil rétrospectif des données cliniques et neuropsychologiques pour les patients déjà suivi dans les Centres Experts. Par exemple les patients suivis dans le Centre Expert depuis 2010 seront suivis pendant 10 ans. On procédera de façon graduelle à l’inclusion de l’ensemble de la cohorte sur une période de quatre ans. Chaque vague d’inclusion concernera 100 patients. La cohorte sera constituée au bout de 4 ans et les perdus de vue continueront à être remplacés.  </dcterms:accrualPeriodicity>\\n      <rdf:resource xml:lang=\"FR\">sniiram</rdf:resource>\\n      <dcterms:accessRights/>\\n      <dcterms:accessRights rdf:resource=\"http://publications.europa.eu/resource/authority/access-right/PUBLIC\"/>\\n      <foaf:page xml:lang=\"FR\">http://www.fondation-fondamental.org/upload/pdf/cp_investissement_d_avenir_psy-coh2.pdf</foaf:page>\\n   </dcat:Dataset>\\n   <dcat:Distribution>\\n      <dcterms:rights>\\n         <odrs:RightsStatement/>\\n      </dcterms:rights>\\n      <dcat:accessService rdf:resource=\"Clermont-Ferrand University Hospital\">Clermont-Ferrand University Hospital</dcat:accessService>\\n   </dcat:Distribution>\\n</rdf:RDF>\\n'"
      ]
     },
     "execution_count": 2,
     "metadata": {},
     "output_type": "execute_result"
    }
   ],
   "source": [
    "dcatap_output"
   ]
  },
  {
   "cell_type": "code",
   "execution_count": null,
   "metadata": {},
   "outputs": [
    {
     "ename": "NameError",
     "evalue": "name 'PySaxonProcessor' is not defined",
     "output_type": "error",
     "traceback": [
      "\u001b[1;31m---------------------------------------------------------------------------\u001b[0m",
      "\u001b[1;31mNameError\u001b[0m                                 Traceback (most recent call last)",
      "Cell \u001b[1;32mIn[1], line 1\u001b[0m\n\u001b[1;32m----> 1\u001b[0m \u001b[38;5;28;01mwith\u001b[39;00m PySaxonProcessor(license\u001b[38;5;241m=\u001b[39m\u001b[38;5;28;01mFalse\u001b[39;00m) \u001b[38;5;28;01mas\u001b[39;00m proc:\n\u001b[0;32m      3\u001b[0m     xsltproc \u001b[38;5;241m=\u001b[39m proc\u001b[38;5;241m.\u001b[39mnew_xslt30_processor()\n\u001b[0;32m      4\u001b[0m     xml_input \u001b[38;5;241m=\u001b[39m proc\u001b[38;5;241m.\u001b[39mparse_xml(xml_file_name\u001b[38;5;241m=\u001b[39m\u001b[38;5;124m\"\u001b[39m\u001b[38;5;124msample-input.xml\u001b[39m\u001b[38;5;124m\"\u001b[39m)\n",
      "\u001b[1;31mNameError\u001b[0m: name 'PySaxonProcessor' is not defined"
     ]
    }
   ],
   "source": [
    "from saxonche import PySaxonProcessor\n",
    "\n",
    "def execute_xsl_transformation(xml_file, xsl_file):\n",
    "    \n",
    "    with PySaxonProcessor(license=False) as proc:\n",
    "    \n",
    "        xsltproc = proc.new_xslt30_processor()\n",
    "        xml_input = proc.parse_xml(xml_file_name=)\n",
    "        xslt_exec = xsltproc.compile_stylesheet(stylesheet_file=)\n",
    "        xml_output = xslt_exec.transform_to_string(xdm_node=xml_input)\n",
    "\n",
    "dcatap_output"
   ]
  },
  {
   "cell_type": "code",
   "execution_count": null,
   "metadata": {},
   "outputs": [],
   "source": [
    "\"sample-input.xml\"\n",
    "\"sample-xslt.xsl\""
   ]
  }
 ],
 "metadata": {
  "kernelspec": {
   "display_name": "jupyterenv",
   "language": "python",
   "name": "python3"
  },
  "language_info": {
   "codemirror_mode": {
    "name": "ipython",
    "version": 3
   },
   "file_extension": ".py",
   "mimetype": "text/x-python",
   "name": "python",
   "nbconvert_exporter": "python",
   "pygments_lexer": "ipython3",
   "version": "3.12.7"
  }
 },
 "nbformat": 4,
 "nbformat_minor": 2
}
