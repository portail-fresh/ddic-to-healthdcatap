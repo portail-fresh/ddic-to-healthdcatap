{
 "cells": [
  {
   "cell_type": "code",
   "execution_count": 1,
   "metadata": {},
   "outputs": [],
   "source": [
    "from saxonche import PySaxonProcessor\n",
    "\n",
    "def execute_xsl_transformation(xml_file, xsl_file):\n",
    "    \n",
    "    with PySaxonProcessor(license=False) as proc:\n",
    "    \n",
    "        xsltproc = proc.new_xslt30_processor()\n",
    "        xml_input = proc.parse_xml(xml_file_name=xml_file)\n",
    "        xslt_exec = xsltproc.compile_stylesheet(stylesheet_file=xsl_file)\n",
    "        xml_output = xslt_exec.transform_to_string(xdm_node=xml_input)\n",
    "\n",
    "    return xml_output"
   ]
  },
  {
   "cell_type": "code",
   "execution_count": 2,
   "metadata": {},
   "outputs": [
    {
     "ename": "PySaxonApiError",
     "evalue": "Unable to resolve <sample-input.xml> into a Source. Line number: -1",
     "output_type": "error",
     "traceback": [
      "\u001b[1;31m---------------------------------------------------------------------------\u001b[0m",
      "\u001b[1;31mPySaxonApiError\u001b[0m                           Traceback (most recent call last)",
      "Cell \u001b[1;32mIn[2], line 1\u001b[0m\n\u001b[1;32m----> 1\u001b[0m output\u001b[38;5;241m=\u001b[39mexecute_xsl_transformation(\u001b[38;5;124m\"\u001b[39m\u001b[38;5;124msample-input.xml\u001b[39m\u001b[38;5;124m\"\u001b[39m,\u001b[38;5;124m\"\u001b[39m\u001b[38;5;124mddic-to-dcat-TEST.xsl\u001b[39m\u001b[38;5;124m\"\u001b[39m)\n\u001b[0;32m      2\u001b[0m \u001b[38;5;28;01mif\u001b[39;00m output:\n\u001b[0;32m      3\u001b[0m     \u001b[38;5;28;01mwith\u001b[39;00m \u001b[38;5;28mopen\u001b[39m(\u001b[38;5;124m\"\u001b[39m\u001b[38;5;124mhealth-dcat-output.rdf\u001b[39m\u001b[38;5;124m\"\u001b[39m, \u001b[38;5;124m\"\u001b[39m\u001b[38;5;124mw\u001b[39m\u001b[38;5;124m\"\u001b[39m, encoding\u001b[38;5;241m=\u001b[39m\u001b[38;5;124m\"\u001b[39m\u001b[38;5;124mutf-8\u001b[39m\u001b[38;5;124m\"\u001b[39m) \u001b[38;5;28;01mas\u001b[39;00m f:\n",
      "Cell \u001b[1;32mIn[1], line 8\u001b[0m, in \u001b[0;36mexecute_xsl_transformation\u001b[1;34m(xml_file, xsl_file)\u001b[0m\n\u001b[0;32m      5\u001b[0m \u001b[38;5;28;01mwith\u001b[39;00m PySaxonProcessor(license\u001b[38;5;241m=\u001b[39m\u001b[38;5;28;01mFalse\u001b[39;00m) \u001b[38;5;28;01mas\u001b[39;00m proc:\n\u001b[0;32m      7\u001b[0m     xsltproc \u001b[38;5;241m=\u001b[39m proc\u001b[38;5;241m.\u001b[39mnew_xslt30_processor()\n\u001b[1;32m----> 8\u001b[0m     xml_input \u001b[38;5;241m=\u001b[39m proc\u001b[38;5;241m.\u001b[39mparse_xml(xml_file_name\u001b[38;5;241m=\u001b[39mxml_file)\n\u001b[0;32m      9\u001b[0m     xslt_exec \u001b[38;5;241m=\u001b[39m xsltproc\u001b[38;5;241m.\u001b[39mcompile_stylesheet(stylesheet_file\u001b[38;5;241m=\u001b[39mxsl_file)\n\u001b[0;32m     10\u001b[0m     xml_output \u001b[38;5;241m=\u001b[39m xslt_exec\u001b[38;5;241m.\u001b[39mtransform_to_string(xdm_node\u001b[38;5;241m=\u001b[39mxml_input)\n",
      "File \u001b[1;32mpython_saxon\\saxonc.pyx:935\u001b[0m, in \u001b[0;36msaxonche.PySaxonProcessor.parse_xml\u001b[1;34m()\u001b[0m\n",
      "\u001b[1;31mPySaxonApiError\u001b[0m: Unable to resolve <sample-input.xml> into a Source. Line number: -1"
     ]
    }
   ],
   "source": [
    "output=execute_xsl_transformation(\"sample-input.xml\",\"ddic-to-dcat-TEST.xsl\")\n",
    "if output:\n",
    "    with open(\"health-dcat-output.rdf\", \"w\", encoding=\"utf-8\") as f:\n",
    "        f.write(output)"
   ]
  }
 ],
 "metadata": {
  "kernelspec": {
   "display_name": "jupyterenv",
   "language": "python",
   "name": "python3"
  },
  "language_info": {
   "codemirror_mode": {
    "name": "ipython",
    "version": 3
   },
   "file_extension": ".py",
   "mimetype": "text/x-python",
   "name": "python",
   "nbconvert_exporter": "python",
   "pygments_lexer": "ipython3",
   "version": "3.12.7"
  }
 },
 "nbformat": 4,
 "nbformat_minor": 2
}
